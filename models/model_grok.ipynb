{
 "cells": [
  {
   "cell_type": "code",
   "execution_count": 2,
   "metadata": {},
   "outputs": [
    {
     "name": "stderr",
     "output_type": "stream",
     "text": [
      "2025-03-25 15:39:09.107106: I external/local_xla/xla/tsl/cuda/cudart_stub.cc:32] Could not find cuda drivers on your machine, GPU will not be used.\n",
      "2025-03-25 15:39:09.114394: I external/local_xla/xla/tsl/cuda/cudart_stub.cc:32] Could not find cuda drivers on your machine, GPU will not be used.\n",
      "2025-03-25 15:39:09.158517: E external/local_xla/xla/stream_executor/cuda/cuda_fft.cc:485] Unable to register cuFFT factory: Attempting to register factory for plugin cuFFT when one has already been registered\n",
      "2025-03-25 15:39:09.234295: E external/local_xla/xla/stream_executor/cuda/cuda_dnn.cc:8454] Unable to register cuDNN factory: Attempting to register factory for plugin cuDNN when one has already been registered\n",
      "2025-03-25 15:39:09.259406: E external/local_xla/xla/stream_executor/cuda/cuda_blas.cc:1452] Unable to register cuBLAS factory: Attempting to register factory for plugin cuBLAS when one has already been registered\n",
      "2025-03-25 15:39:14.424998: W tensorflow/compiler/tf2tensorrt/utils/py_utils.cc:38] TF-TRT Warning: Could not find TensorRT\n"
     ]
    }
   ],
   "source": [
    "import numpy as np\n",
    "import json\n",
    "import os\n",
    "from sklearn.preprocessing import LabelEncoder, StandardScaler, MinMaxScaler\n",
    "from sklearn.model_selection import train_test_split\n",
    "from sklearn.ensemble import RandomForestClassifier\n",
    "from sklearn.metrics import classification_report\n",
    "import xgboost as xgb\n",
    "import tensorflow as tf\n",
    "from tensorflow.keras.models import Sequential\n",
    "from tensorflow.keras.layers import Dense"
   ]
  },
  {
   "cell_type": "code",
   "execution_count": 1,
   "metadata": {},
   "outputs": [
    {
     "name": "stdout",
     "output_type": "stream",
     "text": [
      "hola mundo\n"
     ]
    }
   ],
   "source": [
    "\n",
    "\n",
    "# Function to load data\n",
    "def load_data():\n",
    "    features_list = []\n",
    "    labels_list = []\n",
    "    for i in range(1, 360):  # 359 samples\n",
    "        feature_file = f'features_{i}.npy'\n",
    "        metadata_file = f'features_{i}_metadata.json'\n",
    "        if os.path.exists(feature_file) and os.path.exists(metadata_file):\n",
    "            # Load and flatten feature matrix from (20, 9) to (180,)\n",
    "            features = np.load(feature_file).flatten()\n",
    "            features_list.append(features)\n",
    "            # Load metadata and extract Satellite_Label\n",
    "            with open(metadata_file, 'r') as f:\n",
    "                metadata = json.load(f)\n",
    "            label = metadata['Satellite_Label']\n",
    "            labels_list.append(label)\n",
    "        else:\n",
    "            print(f\"Warning: {feature_file} or {metadata_file} not found.\")\n",
    "    X = np.array(features_list)  # Shape: (359, 180)\n",
    "    y = np.array(labels_list)    # Shape: (359,)\n",
    "    return X, y\n",
    "\n",
    "# Load data\n",
    "print(\"Loading data...\")\n",
    "X, y = load_data()\n",
    "\n",
    "# Encode labels (65 unique satellite IDs to 0-64)\n",
    "le = LabelEncoder()\n",
    "y_encoded = le.fit_transform(y)\n",
    "\n",
    "# Perform standard train-test split (80-20) with stratification\n",
    "X_train, X_test, y_train, y_test = train_test_split(\n",
    "    X, y_encoded, test_size=0.2, stratify=y_encoded, random_state=42\n",
    ")\n",
    "\n",
    "# Ask user for preprocessing method\n",
    "preprocess_method = input(\"Choose preprocessing (none, standard, minmax): \").strip().lower()\n",
    "\n",
    "# Apply preprocessing\n",
    "if preprocess_method == 'standard':\n",
    "    scaler = StandardScaler()\n",
    "    X_train_scaled = scaler.fit_transform(X_train)\n",
    "    X_test_scaled = scaler.transform(X_test)\n",
    "    print(\"Applied standardization (zero mean, unit variance).\")\n",
    "elif preprocess_method == 'minmax':\n",
    "    scaler = MinMaxScaler()\n",
    "    X_train_scaled = scaler.fit_transform(X_train)\n",
    "    X_test_scaled = scaler.transform(X_test)\n",
    "    print(\"Applied min-max scaling (to [0, 1]).\")\n",
    "else:\n",
    "    X_train_scaled = X_train\n",
    "    X_test_scaled = X_test\n",
    "    print(\"No preprocessing applied.\")\n",
    "\n",
    "# Function to evaluate and print classification report\n",
    "def evaluate_model(model, X_test, y_test, model_name):\n",
    "    y_pred = model.predict(X_test)\n",
    "    if hasattr(y_pred, 'argmax'):  # For neural network predictions\n",
    "        y_pred = y_pred.argmax(axis=1)\n",
    "    print(f\"\\n{model_name} Classification Report:\")\n",
    "    print(classification_report(y_test, y_pred, target_names=[str(cls) for cls in le.classes_]))\n",
    "\n",
    "# 1. Random Forest Classifier\n",
    "print(\"Training Random Forest...\")\n",
    "rf_model = RandomForestClassifier(n_estimators=100, random_state=42)\n",
    "rf_model.fit(X_train_scaled, y_train)\n",
    "evaluate_model(rf_model, X_test_scaled, y_test, \"Random Forest\")\n",
    "\n",
    "# 2. Feedforward Neural Network\n",
    "print(\"Training Neural Network...\")\n",
    "nn_model = Sequential([\n",
    "    Dense(128, activation='relu', input_shape=(180,)),\n",
    "    Dense(64, activation='relu'),\n",
    "    Dense(65, activation='softmax')  # 65 classes\n",
    "])\n",
    "nn_model.compile(optimizer='adam', loss='sparse_categorical_crossentropy', metrics=['accuracy'])\n",
    "nn_model.fit(X_train_scaled, y_train, epochs=50, batch_size=32, validation_split=0.2, verbose=0)\n",
    "y_pred_nn = nn_model.predict(X_test_scaled, verbose=0)\n",
    "evaluate_model(nn_model, X_test_scaled, y_test, \"Neural Network\")\n",
    "\n",
    "# 3. XGBoost Classifier\n",
    "print(\"Training XGBoost...\")\n",
    "xgb_model = xgb.XGBClassifier(\n",
    "    n_estimators=100, random_state=42, use_label_encoder=False, eval_metric='mlogloss'\n",
    ")\n",
    "xgb_model.fit(X_train_scaled, y_train)\n",
    "evaluate_model(xgb_model, X_test_scaled, y_test, \"XGBoost\")"
   ]
  },
  {
   "cell_type": "code",
   "execution_count": null,
   "metadata": {},
   "outputs": [],
   "source": []
  }
 ],
 "metadata": {
  "kernelspec": {
   "display_name": "fingerprint",
   "language": "python",
   "name": "python3"
  },
  "language_info": {
   "codemirror_mode": {
    "name": "ipython",
    "version": 3
   },
   "file_extension": ".py",
   "mimetype": "text/x-python",
   "name": "python",
   "nbconvert_exporter": "python",
   "pygments_lexer": "ipython3",
   "version": "3.11.9"
  }
 },
 "nbformat": 4,
 "nbformat_minor": 2
}
